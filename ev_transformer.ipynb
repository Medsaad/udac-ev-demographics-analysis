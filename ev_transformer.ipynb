{
 "cells": [
  {
   "cell_type": "code",
   "execution_count": 1,
   "id": "70ec8bd9",
   "metadata": {},
   "outputs": [],
   "source": [
    "from pyspark.sql import SparkSession\n",
    "from pyspark.sql.functions import udf, sum, col, lower\n",
    "import os"
   ]
  },
  {
   "cell_type": "code",
   "execution_count": 2,
   "id": "5bb6ff62",
   "metadata": {},
   "outputs": [],
   "source": [
    "aws_key = os.getenv('AWS_API_ID')\n",
    "aws_secret = os.environ.get('AWS_API_SECRET')"
   ]
  },
  {
   "cell_type": "code",
   "execution_count": 3,
   "id": "1062c8af",
   "metadata": {},
   "outputs": [
    {
     "name": "stderr",
     "output_type": "stream",
     "text": [
      "Setting default log level to \"WARN\".\n",
      "To adjust logging level use sc.setLogLevel(newLevel). For SparkR, use setLogLevel(newLevel).\n"
     ]
    },
    {
     "name": "stdout",
     "output_type": "stream",
     "text": [
      "22/12/27 17:01:16 WARN NativeCodeLoader: Unable to load native-hadoop library for your platform... using builtin-java classes where applicable\n"
     ]
    }
   ],
   "source": [
    "spark = SparkSession \\\n",
    "        .builder \\\n",
    "        .appName(\"Wrangling Data\") \\\n",
    "        .getOrCreate()\n",
    "\n",
    "spark._jsc.hadoopConfiguration().set(\"fs.s3a.access.key\", aws_key)\n",
    "spark._jsc.hadoopConfiguration().set(\"fs.s3a.secret.key\", aws_secret)\n",
    "spark._jsc.hadoopConfiguration().set(\"fs.s3a.impl\",\"org.apache.hadoop.fs.s3a.S3AFileSystem\")\n",
    "\n",
    "ev_bucket = \"udac-evs\"\n",
    "ev_path = \"Light_Duty_Vehicles.csv\"\n",
    "ev_population_path = \"Electric_Vehicle_Population_Data.csv\"\n",
    "us_population_path = \"us_population.csv\"\n",
    "us_state_code_path = \"state_code.csv\""
   ]
  },
  {
   "cell_type": "markdown",
   "id": "22674230",
   "metadata": {},
   "source": [
    "# EV Vehicles"
   ]
  },
  {
   "cell_type": "code",
   "execution_count": 4,
   "id": "9d34232d",
   "metadata": {},
   "outputs": [
    {
     "name": "stdout",
     "output_type": "stream",
     "text": [
      "22/12/27 17:01:19 WARN MetricsConfig: Cannot locate configuration: tried hadoop-metrics2-s3a-file-system.properties,hadoop-metrics2.properties\n"
     ]
    },
    {
     "name": "stderr",
     "output_type": "stream",
     "text": [
      "\r",
      "[Stage 0:>                                                          (0 + 1) / 1]\r",
      "\r",
      "                                                                                \r"
     ]
    },
    {
     "name": "stdout",
     "output_type": "stream",
     "text": [
      "22/12/27 17:01:45 WARN package: Truncated the string representation of a plan since it was too large. This behavior can be adjusted by setting 'spark.sql.debug.maxToStringFields'.\n"
     ]
    },
    {
     "name": "stderr",
     "output_type": "stream",
     "text": [
      "\r",
      "[Stage 1:>                                                          (0 + 1) / 1]\r"
     ]
    },
    {
     "name": "stdout",
     "output_type": "stream",
     "text": [
      "+----------------------+-------+----------------------------+---------------+-----------+---------------------------+----------+-----------------------------+--------------------------------+---------------------------------+------------------------------+---------------------------------+----------------------------------+-----------------+-----------+--------------------------------+---------------------+----------------------------------+------------+----------------------------+-----------+---------+---------------+-----------------------+-------------------+----------------+---------+-----+----------+\n",
      "|Vehicle ID            |Fuel ID|Fuel Configuration ID       |Manufacturer ID|Category ID|Model                      |Model Year|Alternative Fuel Economy City|Alternative Fuel Economy Highway|Alternative Fuel Economy Combined|Conventional Fuel Economy City|Conventional Fuel Economy Highway|Conventional Fuel Economy Combined|Transmission Type|Engine Type|Engine Size                     |Engine Cylinder Count|Engine Description                |Manufacturer|Manufacturer URL            |Category   |Fuel Code|Fuel           |Fuel Configuration Name|Electric-Only Range|PHEV Total Range|PHEV Type|Notes|Drivetrain|\n",
      "+----------------------+-------+----------------------------+---------------+-----------+---------------------------+----------+-----------------------------+--------------------------------+---------------------------------+------------------------------+---------------------------------+----------------------------------+-----------------+-----------+--------------------------------+---------------------+----------------------------------+------------+----------------------------+-----------+---------+---------------+-----------------------+-------------------+----------------+---------+-----+----------+\n",
      "|13044                 |45     |9                           |365            |27         |NSX                        |2022      |null                         |null                            |null                             |21.0                          |22.0                             |21.0                              |Auto             |SI         |3.5L                            |6                    |3.5L V6                           |Acura       |http://www.acura.com/       |Sedan/Wagon|HYBR     |Hybrid Electric|Hybrid Electric        |null               |null            |null     |null |AWD       |\n",
      "|12854                 |45     |9                           |377            |27         |A3                         |2022      |null                         |null                            |null                             |29.0                          |38.0                             |32.0                              |Auto             |SI         |2.0L                            |4                    |2.0L I4                           |Audi        |http://progress.audiusa.com/|Sedan/Wagon|HYBR     |Hybrid Electric|Hybrid Electric        |null               |null            |null     |null |FWD       |\n",
      "|12842                 |45     |9                           |377            |27         |A3 quattro                 |2022      |null                         |null                            |null                             |28.0                          |36.0                             |31.0                              |Auto             |SI         |2.0L                            |4                    |2.0L I4                           |Audi        |http://progress.audiusa.com/|Sedan/Wagon|HYBR     |Hybrid Electric|Hybrid Electric        |null               |null            |null     |null |AWD       |\n",
      "|12783                 |45     |9                           |377            |27         |A4 allroad quattro         |2022      |null                         |null                            |null                             |24.0                          |30.0                             |26.0                              |Auto             |SI         |2.0L                            |4                    |2.0L I4                           |Audi        |http://progress.audiusa.com/|Sedan/Wagon|HYBR     |Hybrid Electric|Hybrid Electric        |null               |null            |null     |null |AWD       |\n",
      "|12782                 |45     |9                           |377            |27         |A4 quattro                 |2022      |null                         |null                            |null                             |26.0                          |34.0                             |29.0                              |Auto             |SI         |2.0L                            |4                    |2.0L I4                           |Audi        |http://progress.audiusa.com/|Sedan/Wagon|HYBR     |Hybrid Electric|Hybrid Electric        |null               |null            |null     |null |AWD       |\n",
      "|12784                 |45     |9                           |377            |27         |A4 S line quattro          |2022      |null                         |null                            |null                             |24.0                          |31.0                             |27.0                              |Auto             |SI         |2.0L                            |4                    |2.0L I4                           |Audi        |http://progress.audiusa.com/|Sedan/Wagon|HYBR     |Hybrid Electric|Hybrid Electric        |null               |null            |null     |null |AWD       |\n",
      "|12786                 |45     |9                           |377            |27         |A5 Cabriolet quattro       |2022      |null                         |null                            |null                             |23.0                          |31.0                             |26.0                              |Auto             |SI         |2.0L                            |4                    |2.0L I4                           |Audi        |http://progress.audiusa.com/|Sedan/Wagon|HYBR     |Hybrid Electric|Hybrid Electric        |null               |null            |null     |null |AWD       |\n",
      "|12785                 |45     |9                           |377            |27         |A5 Coupe quattro           |2022      |null                         |null                            |null                             |24.0                          |31.0                             |27.0                              |Auto             |SI         |2.0L                            |4                    |2.0L I4                           |Audi        |http://progress.audiusa.com/|Sedan/Wagon|HYBR     |Hybrid Electric|Hybrid Electric        |null               |null            |null     |null |AWD       |\n",
      "|12787                 |45     |9                           |377            |27         |A5 Sportback quattro       |2022      |null                         |null                            |null                             |26.0                          |34.0                             |29.0                              |Auto             |SI         |2.0L                            |4                    |2.0L I4                           |Audi        |http://progress.audiusa.com/|Sedan/Wagon|HYBR     |Hybrid Electric|Hybrid Electric        |null               |null            |null     |null |AWD       |\n",
      "|12788                 |45     |9                           |377            |27         |A5 Sportback S line quattro|2022      |null                         |null                            |null                             |24.0                          |31.0                             |27.0                              |Auto             |SI         |2.0L                            |4                    |2.0L I4                           |Audi        |http://progress.audiusa.com/|Sedan/Wagon|HYBR     |Hybrid Electric|Hybrid Electric        |null               |null            |null     |null |AWD       |\n",
      "|12791                 |45     |9                           |377            |27         |A6 Allroad quattro         |2022      |null                         |null                            |null                             |21.0                          |28.0                             |23.0                              |Auto             |SI         |3.0L                            |6                    |3.0L V6                           |Audi        |http://progress.audiusa.com/|Sedan/Wagon|HYBR     |Hybrid Electric|Hybrid Electric        |null               |null            |null     |null |AWD       |\n",
      "|12790                 |45     |9                           |377            |27         |A6 quattro                 |2022      |null                         |null                            |null                             |21.0                          |30.0                             |24.0                              |Auto             |SI         |3.0L                            |6                    |3.0L V6                           |Audi        |http://progress.audiusa.com/|Sedan/Wagon|HYBR     |Hybrid Electric|Hybrid Electric        |null               |null            |null     |null |AWD       |\n",
      "|12789                 |45     |9                           |377            |27         |A6 quattro                 |2022      |null                         |null                            |null                             |23.0                          |33.0                             |26.0                              |Auto             |SI         |2.0L                            |4                    |2.0L I4                           |Audi        |http://progress.audiusa.com/|Sedan/Wagon|HYBR     |Hybrid Electric|Hybrid Electric        |null               |null            |null     |null |AWD       |\n",
      "|12794                 |45     |9                           |377            |27         |A7 quattro                 |2022      |null                         |null                            |null                             |21.0                          |30.0                             |24.0                              |Auto             |SI         |3.0L                            |6                    |3.0L V6                           |Audi        |http://progress.audiusa.com/|Sedan/Wagon|HYBR     |Hybrid Electric|Hybrid Electric        |null               |null            |null     |null |AWD       |\n",
      "|12831                 |57     |null                        |377            |27         |A7 TFSI e quattro          |2022      |null                         |null                            |70.0                             |25.0                          |31.0                             |27.0                              |Auto             |SI         |2.0L                            |4                    |2.0L I4;                          |null        |null                        |null       |null     |null           |null                   |null               |null            |null     |null |null      |\n",
      "|105 kW electric motor\"|Audi   |http://progress.audiusa.com/|Sedan/Wagon    |PHEV       |Plug-in Hybrid Electric    |null      |26                           |410                             |Blended                          |null                          |AWD                              |null                              |null             |null       |null                            |null                 |null                              |null        |null                        |null       |null     |null           |null                   |null               |null            |null     |null |null      |\n",
      "|12928                 |45     |9                           |377            |27         |A8L quattro                |2022      |null                         |null                            |null                             |19.0                          |28.0                             |22.0                              |Auto             |SI         |3.0L                            |6                    |3.0L V6                           |Audi        |http://progress.audiusa.com/|Sedan/Wagon|HYBR     |Hybrid Electric|Hybrid Electric        |null               |null            |null     |null |AWD       |\n",
      "|12949                 |41     |null                        |377            |27         |e-tron GT                  |2022      |81.0                         |83.0                            |82.0                             |null                          |null                             |null                              |Auto             |e-motor    |175 kW electric motor           |null                 |175 kW electric motor;            |null        |null                        |null       |null     |null           |null                   |null               |null            |null     |null |null      |\n",
      "|129 Ah battery\"       |Audi   |http://progress.audiusa.com/|Sedan/Wagon    |ELEC       |Electric                   |null      |238                          |null                            |null                             |null                          |AWD                              |null                              |null             |null       |null                            |null                 |null                              |null        |null                        |null       |null     |null           |null                   |null               |null            |null     |null |null      |\n",
      "|13002                 |41     |null                        |377            |29         |e-tron quattro             |2022      |78.0                         |77.0                            |78.0                             |null                          |null                             |null                              |Auto             |e-motor    |141 kW and 172 kW electric motor|null                 |141 kW and 172 kW electric motors;|null        |null                        |null       |null     |null           |null                   |null               |null            |null     |null |null      |\n",
      "+----------------------+-------+----------------------------+---------------+-----------+---------------------------+----------+-----------------------------+--------------------------------+---------------------------------+------------------------------+---------------------------------+----------------------------------+-----------------+-----------+--------------------------------+---------------------+----------------------------------+------------+----------------------------+-----------+---------+---------------+-----------------------+-------------------+----------------+---------+-----+----------+\n",
      "only showing top 20 rows\n",
      "\n"
     ]
    },
    {
     "name": "stderr",
     "output_type": "stream",
     "text": [
      "\r",
      "                                                                                \r"
     ]
    }
   ],
   "source": [
    "ev_df = spark.read.option(\"header\",True).csv(f\"s3a://{ev_bucket}/{ev_path}\")\n",
    "ev_df.show(truncate=False)"
   ]
  },
  {
   "cell_type": "code",
   "execution_count": 5,
   "id": "852ffc82",
   "metadata": {},
   "outputs": [
    {
     "name": "stderr",
     "output_type": "stream",
     "text": [
      "                                                                                \r"
     ]
    },
    {
     "data": {
      "text/plain": [
       "2477"
      ]
     },
     "execution_count": 5,
     "metadata": {},
     "output_type": "execute_result"
    }
   ],
   "source": [
    "ev_df = ev_df.where(col('Model').isNotNull())  \\\n",
    "    .where(col('Model Year').isNotNull())  \\\n",
    "    .where(col('Manufacturer').isNotNull())  \\\n",
    "    .select(\n",
    "    lower(col('Model')).alias('model_name'), \n",
    "    col('Model Year').alias('year'), \n",
    "    col('Transmission Type').alias('transmission_type'), \n",
    "    col('Engine Type').alias('engine_type'), \n",
    "    col('Engine Size').alias('engine_size'), \n",
    "    lower(col('Manufacturer')).alias('manufacturer'), \n",
    "    col('Category').alias('category'), \n",
    "    col('Fuel').alias('fuel')) \\\n",
    "    .dropDuplicates()\n",
    "ev_df.count()\n"
   ]
  },
  {
   "cell_type": "markdown",
   "id": "3d7120f2",
   "metadata": {},
   "source": [
    "# EV Population Vehicles"
   ]
  },
  {
   "cell_type": "code",
   "execution_count": 6,
   "id": "78f741d3",
   "metadata": {},
   "outputs": [
    {
     "name": "stderr",
     "output_type": "stream",
     "text": [
      "\r",
      "[Stage 8:>                                                          (0 + 1) / 1]\r",
      "\r",
      "                                                                                \r"
     ]
    },
    {
     "name": "stdout",
     "output_type": "stream",
     "text": [
      "root\n",
      " |-- VIN (1-10): string (nullable = true)\n",
      " |-- County: string (nullable = true)\n",
      " |-- City: string (nullable = true)\n",
      " |-- State: string (nullable = true)\n",
      " |-- ZIP Code: string (nullable = true)\n",
      " |-- Model Year: string (nullable = true)\n",
      " |-- Make: string (nullable = true)\n",
      " |-- Model: string (nullable = true)\n",
      " |-- Electric Vehicle Type: string (nullable = true)\n",
      " |-- Clean Alternative Fuel Vehicle (CAFV) Eligibility: string (nullable = true)\n",
      " |-- Electric Range: string (nullable = true)\n",
      " |-- Base MSRP: string (nullable = true)\n",
      " |-- Legislative District: string (nullable = true)\n",
      " |-- DOL Vehicle ID: string (nullable = true)\n",
      " |-- Vehicle Location: string (nullable = true)\n",
      "\n"
     ]
    },
    {
     "name": "stderr",
     "output_type": "stream",
     "text": [
      "                                                                                \r"
     ]
    },
    {
     "data": {
      "text/plain": [
       "62261"
      ]
     },
     "execution_count": 6,
     "metadata": {},
     "output_type": "execute_result"
    }
   ],
   "source": [
    "ev_pop_df = spark.read.option(\"header\",True).csv(f\"s3a://{ev_bucket}/{ev_population_path}\")\n",
    "ev_pop_df.printSchema()\n",
    "ev_pop_df.count()"
   ]
  },
  {
   "cell_type": "code",
   "execution_count": 7,
   "id": "03ae2c00",
   "metadata": {},
   "outputs": [
    {
     "name": "stdout",
     "output_type": "stream",
     "text": [
      "+---------+-----+----------+---------+---------------+--------------------------------------+\n",
      "|county   |state|model_year|make     |model          |electric_vehicle_type                 |\n",
      "+---------+-----+----------+---------+---------------+--------------------------------------+\n",
      "|King     |WA   |2020      |kia      |niro           |Battery Electric Vehicle (BEV)        |\n",
      "|King     |WA   |2019      |kia      |niro electric  |Battery Electric Vehicle (BEV)        |\n",
      "|King     |WA   |2020      |kia      |niro           |Battery Electric Vehicle (BEV)        |\n",
      "|Thurston |WA   |2019      |chevrolet|bolt           |Battery Electric Vehicle (BEV)        |\n",
      "|Chelan   |WA   |2015      |nissan   |leaf           |Battery Electric Vehicle (BEV)        |\n",
      "|King     |WA   |2015      |ford     |c-max energi   |Plug-in Hybrid Electric Vehicle (PHEV)|\n",
      "|King     |WA   |2017      |chevrolet|bolt           |Battery Electric Vehicle (BEV)        |\n",
      "|King     |WA   |2020      |kia      |niro           |Battery Electric Vehicle (BEV)        |\n",
      "|King     |WA   |2019      |nissan   |leaf           |Battery Electric Vehicle (BEV)        |\n",
      "|King     |WA   |2013      |nissan   |leaf           |Battery Electric Vehicle (BEV)        |\n",
      "|King     |WA   |2020      |tesla    |model y        |Battery Electric Vehicle (BEV)        |\n",
      "|King     |WA   |2018      |bmw      |i3s            |Battery Electric Vehicle (BEV)        |\n",
      "|King     |WA   |2020      |nissan   |leaf           |Battery Electric Vehicle (BEV)        |\n",
      "|King     |WA   |2019      |chrysler |pacifica hybrid|Plug-in Hybrid Electric Vehicle (PHEV)|\n",
      "|King     |WA   |2020      |tesla    |model 3        |Battery Electric Vehicle (BEV)        |\n",
      "|King     |WA   |2018      |tesla    |model 3        |Battery Electric Vehicle (BEV)        |\n",
      "|King     |WA   |2019      |nissan   |leaf           |Battery Electric Vehicle (BEV)        |\n",
      "|Benton   |WA   |2014      |nissan   |leaf           |Battery Electric Vehicle (BEV)        |\n",
      "|Snohomish|WA   |2018      |tesla    |model 3        |Battery Electric Vehicle (BEV)        |\n",
      "|King     |WA   |2016      |tesla    |model x        |Battery Electric Vehicle (BEV)        |\n",
      "+---------+-----+----------+---------+---------------+--------------------------------------+\n",
      "only showing top 20 rows\n",
      "\n"
     ]
    }
   ],
   "source": [
    "ev_pop_df = ev_pop_df.where(col('State').isNotNull())  \\\n",
    "    .where(col('Model Year').isNotNull())  \\\n",
    "    .where(col('Make').isNotNull())  \\\n",
    "    .where(col('Model').isNotNull())  \\\n",
    "    .select(col('County').alias('county'), \n",
    "            col('State').alias('state'), \n",
    "            col('Model Year').alias('model_year'), \n",
    "            lower(col('Make')).alias('make'), \n",
    "            lower(col('Model')).alias('model'), \n",
    "            col('Electric Vehicle Type').alias('electric_vehicle_type'))\n",
    "ev_pop_df.show(truncate=False)\n"
   ]
  },
  {
   "cell_type": "markdown",
   "id": "f865f7a4",
   "metadata": {},
   "source": [
    "# US Population"
   ]
  },
  {
   "cell_type": "code",
   "execution_count": 8,
   "id": "2a6a4a42",
   "metadata": {},
   "outputs": [],
   "source": [
    "us_pop_df = spark.read.option(\"header\",True).csv(f\"s3a://{ev_bucket}/{us_population_path}\")\n",
    "us_pop_df = us_pop_df.withColumn(\"population\", col(\"POPESTIMATE2019\").cast('int')).drop('POPESTIMATE2019')\n",
    "\n",
    "total_pop = us_pop_df.agg(sum(\"population\")).collect()[0][0]"
   ]
  },
  {
   "cell_type": "code",
   "execution_count": 9,
   "id": "dc7ed048",
   "metadata": {},
   "outputs": [],
   "source": [
    "def population_ratio(state_population):\n",
    "    return round((state_population / total_pop) * 100, 1)\n",
    " \n",
    "population_ratio_udf = udf(population_ratio)"
   ]
  },
  {
   "cell_type": "code",
   "execution_count": 10,
   "id": "d43bcf31",
   "metadata": {},
   "outputs": [
    {
     "name": "stderr",
     "output_type": "stream",
     "text": [
      "                                                                                \r"
     ]
    },
    {
     "data": {
      "text/plain": [
       "51"
      ]
     },
     "execution_count": 10,
     "metadata": {},
     "output_type": "execute_result"
    }
   ],
   "source": [
    "us_state_df = spark.read.option(\"header\",True).csv(f\"s3a://{ev_bucket}/{us_state_code_path}\")\n",
    "us_state_pop_ratio_df = us_pop_df.join(us_state_df, us_pop_df.STATE == us_state_df.state, \"left\")  \\\n",
    "                            .select(us_state_df.state, us_state_df.code, col('population'))  \\\n",
    "                            .withColumn('ratio', population_ratio_udf(col('population')))  \\\n",
    "                            .drop('STATE')  \\\n",
    "                            .dropDuplicates()\n",
    "us_state_pop_ratio_df.count()"
   ]
  },
  {
   "cell_type": "code",
   "execution_count": 11,
   "id": "99f57116",
   "metadata": {},
   "outputs": [
    {
     "name": "stdout",
     "output_type": "stream",
     "text": [
      "+----+----------+-----+\n",
      "|code|population|ratio|\n",
      "+----+----------+-----+\n",
      "|MN  |5639632   |1.7  |\n",
      "|NJ  |8882190   |2.7  |\n",
      "|HI  |1415872   |0.4  |\n",
      "|PA  |12801989  |3.9  |\n",
      "|MA  |6892503   |2.1  |\n",
      "|OK  |3956971   |1.2  |\n",
      "|MD  |6045680   |1.8  |\n",
      "|SC  |5148714   |1.6  |\n",
      "|IL  |12671821  |3.9  |\n",
      "|VT  |623989    |0.2  |\n",
      "|OR  |4217737   |1.3  |\n",
      "|IA  |3155070   |1.0  |\n",
      "|ND  |762062    |0.2  |\n",
      "|SD  |884659    |0.3  |\n",
      "|FL  |21477737  |6.5  |\n",
      "|NV  |3080156   |0.9  |\n",
      "|OH  |11689100  |3.6  |\n",
      "|KS  |2913314   |0.9  |\n",
      "|WY  |578759    |0.2  |\n",
      "|WV  |1792147   |0.5  |\n",
      "|UT  |3205958   |1.0  |\n",
      "|MS  |2976149   |0.9  |\n",
      "|AR  |3017804   |0.9  |\n",
      "|NE  |1934408   |0.6  |\n",
      "|WI  |5822434   |1.8  |\n",
      "|CT  |3565287   |1.1  |\n",
      "|NY  |19453561  |5.9  |\n",
      "|LA  |4648794   |1.4  |\n",
      "|CA  |39512223  |12.0 |\n",
      "|MT  |1068778   |0.3  |\n",
      "+----+----------+-----+\n",
      "only showing top 30 rows\n",
      "\n"
     ]
    }
   ],
   "source": [
    "us_state_pop_ratio_df.show(30, truncate=False)"
   ]
  },
  {
   "cell_type": "markdown",
   "id": "bc9bcd26",
   "metadata": {},
   "source": [
    "# Consolidating Output"
   ]
  },
  {
   "cell_type": "code",
   "execution_count": null,
   "id": "71f96ba7",
   "metadata": {},
   "outputs": [
    {
     "name": "stdout",
     "output_type": "stream",
     "text": [
      "root\n",
      " |-- county: string (nullable = true)\n",
      " |-- state: string (nullable = true)\n",
      " |-- model: string (nullable = true)\n",
      " |-- electric_vehicle_type: string (nullable = true)\n",
      " |-- population: integer (nullable = true)\n",
      " |-- ratio: string (nullable = true)\n",
      " |-- model_name: string (nullable = true)\n",
      " |-- year: string (nullable = true)\n",
      " |-- transmission_type: string (nullable = true)\n",
      " |-- engine_type: string (nullable = true)\n",
      " |-- engine_size: string (nullable = true)\n",
      " |-- manufacturer: string (nullable = true)\n",
      " |-- category: string (nullable = true)\n",
      " |-- fuel: string (nullable = true)\n",
      "\n"
     ]
    },
    {
     "name": "stderr",
     "output_type": "stream",
     "text": [
      "                                                                                \r"
     ]
    }
   ],
   "source": [
    "ev_demographics_df = ev_pop_df.join(us_state_pop_ratio_df, us_state_pop_ratio_df.code == ev_pop_df.state, \"left\")  \\\n",
    "                                .join(ev_df, (ev_df.model_name == ev_pop_df.model) & (ev_df.year == ev_pop_df.model_year) & (ev_df.manufacturer == ev_pop_df.make), \"left\")  \\\n",
    "                                .drop('model_year', 'model_year', 'make', 'code')\n",
    "\n",
    "ev_demographics_df.printSchema()\n",
    "ev_demographics_df.write.format(\"parquet\").partitionBy('state').mode(\"overwrite\").save(f's3a://{ev_bucket}/output')\n",
    "\n"
   ]
  },
  {
   "cell_type": "code",
   "execution_count": null,
   "id": "9294b628",
   "metadata": {},
   "outputs": [],
   "source": []
  }
 ],
 "metadata": {
  "kernelspec": {
   "display_name": "Python 3 (ipykernel)",
   "language": "python",
   "name": "python3"
  },
  "language_info": {
   "codemirror_mode": {
    "name": "ipython",
    "version": 3
   },
   "file_extension": ".py",
   "mimetype": "text/x-python",
   "name": "python",
   "nbconvert_exporter": "python",
   "pygments_lexer": "ipython3",
   "version": "3.8.2"
  }
 },
 "nbformat": 4,
 "nbformat_minor": 5
}
